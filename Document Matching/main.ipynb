{
 "cells": [
  {
   "cell_type": "code",
   "execution_count": 15,
   "id": "unauthorized-termination",
   "metadata": {},
   "outputs": [
    {
     "name": "stderr",
     "output_type": "stream",
     "text": [
      "[nltk_data] Downloading package punkt to /Users/jd/nltk_data...\n",
      "[nltk_data]   Package punkt is already up-to-date!\n"
     ]
    },
    {
     "data": {
      "text/plain": [
       "True"
      ]
     },
     "execution_count": 15,
     "metadata": {},
     "output_type": "execute_result"
    }
   ],
   "source": [
    "#Importing all the libraries\n",
    "import nltk, string\n",
    "from sklearn.feature_extraction.text import TfidfVectorizer\n",
    "nltk.download('punkt')"
   ]
  },
  {
   "cell_type": "code",
   "execution_count": 16,
   "id": "utility-ranch",
   "metadata": {},
   "outputs": [],
   "source": [
    "#defining an object from the libraries imported\n",
    "#Object that will be called to reduce the words to their root values\n",
    "stemmer = nltk.stem.porter.PorterStemmer()\n",
    "#Object that will be called to remove the punctuations and turn into lower cases from the text used\n",
    "remove_punctuation_map = dict((ord(char), None) for char in string.punctuation)"
   ]
  },
  {
   "cell_type": "code",
   "execution_count": 17,
   "id": "played-maria",
   "metadata": {},
   "outputs": [],
   "source": [
    "# Defining function for the implementation of above objects\n",
    "def stem_tokens(tokens):\n",
    "    return [stemmer.stem(item) for item in tokens]\n",
    "def normalize(text):\n",
    "    return stem_tokens(nltk.word_tokenize(text.lower().translate(remove_punctuation_map)))"
   ]
  },
  {
   "cell_type": "code",
   "execution_count": 18,
   "id": "unsigned-booking",
   "metadata": {},
   "outputs": [],
   "source": [
    "# Defining an object for TF-IDF library used for statisctical measure using two metrics.\n",
    "# First metrics - How many times a word appears in a document.\n",
    "#Second metrics - The inverse document frequency of the word across a set of documents.\n",
    "vectorizer = TfidfVectorizer(tokenizer=normalize, stop_words='english')"
   ]
  },
  {
   "cell_type": "code",
   "execution_count": 19,
   "id": "broad-characterization",
   "metadata": {},
   "outputs": [],
   "source": [
    "#Defining a function to use the Tfidf object for the input values.\n",
    "def similarity(text1, text2):\n",
    "    tfidf = vectorizer.fit_transform([text1, text2])\n",
    "    return ((tfidf * tfidf.T).A)[0,1]"
   ]
  },
  {
   "cell_type": "code",
   "execution_count": 20,
   "id": "fluid-wedding",
   "metadata": {},
   "outputs": [],
   "source": [
    "#Taking the input of two text files to output the similarity.\n",
    "with open('file1.txt') as f:\n",
    "    a = f.read()\n",
    "with open('file2.txt') as f:\n",
    "    b = f.read()"
   ]
  },
  {
   "cell_type": "code",
   "execution_count": 21,
   "id": "swedish-brush",
   "metadata": {},
   "outputs": [
    {
     "name": "stdout",
     "output_type": "stream",
     "text": [
      "31.18900178718566%\n"
     ]
    }
   ],
   "source": [
    "#Obtaining the output by calling the similarity function.\n",
    "result = str(similarity(a,b)*100)\n",
    "result = result + '%'\n",
    "print(result)"
   ]
  }
 ],
 "metadata": {
  "kernelspec": {
   "display_name": "Python 3",
   "language": "python",
   "name": "python3"
  },
  "language_info": {
   "codemirror_mode": {
    "name": "ipython",
    "version": 3
   },
   "file_extension": ".py",
   "mimetype": "text/x-python",
   "name": "python",
   "nbconvert_exporter": "python",
   "pygments_lexer": "ipython3",
   "version": "3.8.3"
  }
 },
 "nbformat": 4,
 "nbformat_minor": 5
}
